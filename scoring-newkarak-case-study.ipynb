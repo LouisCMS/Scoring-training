{
  "nbformat": 4,
  "nbformat_minor": 0,
  "metadata": {
    "kernelspec": {
      "display_name": "Python 3",
      "language": "python",
      "name": "python3"
    },
    "language_info": {
      "codemirror_mode": {
        "name": "ipython",
        "version": 3
      },
      "file_extension": ".py",
      "mimetype": "text/x-python",
      "name": "python",
      "nbconvert_exporter": "python",
      "pygments_lexer": "ipython3",
      "version": "3.6.4"
    },
    "colab": {
      "name": "scoring-newkarak-case-study.ipynb",
      "provenance": []
    }
  },
  "cells": [
    {
      "cell_type": "markdown",
      "metadata": {
        "id": "KjqwneSD6357",
        "colab_type": "text"
      },
      "source": [
        "# **LEAD SCORING FOR NEWKARAK**"
      ]
    },
    {
      "cell_type": "markdown",
      "metadata": {
        "id": "AN-rPaEg6359",
        "colab_type": "text"
      },
      "source": [
        "The society  « Newkarak » is launching a **new type of karaoke worldwide.** \n",
        "\n",
        "They are launching a new **disruptive concept** with both online karaoke rooms and physical clubs for karaoke lovers. They only work with **monthly subscription** and aim to become **the Netflix of karaoke.**\n",
        "From data collected through online surveys on their prospects, **they want Ekimetrics to help them target their online prospects** with the best possible performance.\n",
        "At your last Eki-event, your CEO understood that you where killing the game in terms of karaoke. Hence he put you in charge of this **lead scoring project**. \n",
        "\n",
        "**Are you up to it ?**\n",
        "\n",
        "![](https://media.giphy.com/media/kKJ8YFi1VVhHFudiz2/giphy.gif)\n"
      ]
    },
    {
      "cell_type": "markdown",
      "metadata": {
        "id": "J60nTBuh635-",
        "colab_type": "text"
      },
      "source": [
        "## **Settings and libraries** "
      ]
    },
    {
      "cell_type": "code",
      "metadata": {
        "id": "2bssycaW635_",
        "colab_type": "code",
        "outputId": "5ab65df1-c831-401e-8879-0e75505fadbb",
        "colab": {
          "base_uri": "https://localhost:8080/",
          "height": 17
        }
      },
      "source": [
        "# Base Data Science snippet\n",
        "import pandas as pd\n",
        "import numpy as np\n",
        "import os\n",
        "import time\n",
        "from tqdm import tqdm_notebook\n",
        "\n",
        "# visulaisation\n",
        "import matplotlib.pyplot as plt\n",
        "import seaborn as sns\n",
        "from matplotlib.pyplot import xticks\n",
        "%matplotlib inline\n",
        "\n",
        "# Supress Warnings\n",
        "import warnings\n",
        "warnings.filterwarnings('ignore')\n",
        "\n",
        "from IPython.core.display import display, HTML\n",
        "display(HTML(\"<style>.container { width:100% !important; }</style>\"))\n",
        "display(HTML(\"<script>$('div.cell.selected').next().height(100);</script>\"))"
      ],
      "execution_count": 1,
      "outputs": [
        {
          "output_type": "display_data",
          "data": {
            "text/html": [
              "<style>.container { width:100% !important; }</style>"
            ],
            "text/plain": [
              "<IPython.core.display.HTML object>"
            ]
          },
          "metadata": {
            "tags": []
          }
        },
        {
          "output_type": "display_data",
          "data": {
            "text/html": [
              "<script>$('div.cell.selected').next().height(100);</script>"
            ],
            "text/plain": [
              "<IPython.core.display.HTML object>"
            ]
          },
          "metadata": {
            "tags": []
          }
        }
      ]
    },
    {
      "cell_type": "markdown",
      "metadata": {
        "id": "ZtR54X74636C",
        "colab_type": "text"
      },
      "source": [
        "If you have an error here (for example ``ModuleNotFoundError: No module named 'seaborn'``) don't forget to install every modules. <br>\n",
        "For that, create a new cell and type <br>```!pip install seaborn```<br>It should work afterward when you re-run the import cell"
      ]
    },
    {
      "cell_type": "markdown",
      "metadata": {
        "id": "5J8lmPaM636C",
        "colab_type": "text"
      },
      "source": [
        "Part 1 and 2 are classical Machine Learning Data Processing and Preparation steps, they are here only for necessity but you do not need to go through them in detail. Just run all cells."
      ]
    },
    {
      "cell_type": "markdown",
      "metadata": {
        "id": "hLyy6sPK636D",
        "colab_type": "text"
      },
      "source": [
        "## **1. Data extraction and aggregation**"
      ]
    },
    {
      "cell_type": "markdown",
      "metadata": {
        "id": "Ei3V_W3T636E",
        "colab_type": "text"
      },
      "source": [
        "## **Downloading the data**"
      ]
    },
    {
      "cell_type": "code",
      "metadata": {
        "id": "CCs_0wi67YYY",
        "colab_type": "code",
        "colab": {
          "base_uri": "https://localhost:8080/",
          "height": 419
        },
        "outputId": "2b80f5c5-a1e9-4495-8225-baa2aa323cf9"
      },
      "source": [
        "# Loading the data from github and storing it into pandas dataframe named \"table\"\n",
        "data_url = 'https://raw.githubusercontent.com/LouisCMS/Scoring-training/master/final_data.csv'\n",
        "table=pd.DataFrame(pd.read_csv(data_url,sep=\";\"))\n",
        "table"
      ],
      "execution_count": 5,
      "outputs": [
        {
          "output_type": "execute_result",
          "data": {
            "text/html": [
              "<div>\n",
              "<style scoped>\n",
              "    .dataframe tbody tr th:only-of-type {\n",
              "        vertical-align: middle;\n",
              "    }\n",
              "\n",
              "    .dataframe tbody tr th {\n",
              "        vertical-align: top;\n",
              "    }\n",
              "\n",
              "    .dataframe thead th {\n",
              "        text-align: right;\n",
              "    }\n",
              "</style>\n",
              "<table border=\"1\" class=\"dataframe\">\n",
              "  <thead>\n",
              "    <tr style=\"text-align: right;\">\n",
              "      <th></th>\n",
              "      <th>Occupation</th>\n",
              "      <th>Age</th>\n",
              "      <th>Subscriptions</th>\n",
              "      <th>Already went to karaoke</th>\n",
              "      <th>Lead Source</th>\n",
              "      <th>Total Visits</th>\n",
              "      <th>Total Time Spent on Website</th>\n",
              "      <th>Page Views Per Visit</th>\n",
              "      <th>Converted</th>\n",
              "    </tr>\n",
              "  </thead>\n",
              "  <tbody>\n",
              "    <tr>\n",
              "      <th>0</th>\n",
              "      <td>Business</td>\n",
              "      <td>30-40</td>\n",
              "      <td>Spotify</td>\n",
              "      <td>Yes</td>\n",
              "      <td>Facebook</td>\n",
              "      <td>0.0</td>\n",
              "      <td>0</td>\n",
              "      <td>0.00</td>\n",
              "      <td>0</td>\n",
              "    </tr>\n",
              "    <tr>\n",
              "      <th>1</th>\n",
              "      <td>Business</td>\n",
              "      <td>30-40</td>\n",
              "      <td>NaN</td>\n",
              "      <td>Yes</td>\n",
              "      <td>Google</td>\n",
              "      <td>5.0</td>\n",
              "      <td>674</td>\n",
              "      <td>2.50</td>\n",
              "      <td>0</td>\n",
              "    </tr>\n",
              "    <tr>\n",
              "      <th>2</th>\n",
              "      <td>Business</td>\n",
              "      <td>18-30</td>\n",
              "      <td>Netflix</td>\n",
              "      <td>Yes</td>\n",
              "      <td>Direct Traffic</td>\n",
              "      <td>2.0</td>\n",
              "      <td>1532</td>\n",
              "      <td>2.00</td>\n",
              "      <td>1</td>\n",
              "    </tr>\n",
              "    <tr>\n",
              "      <th>3</th>\n",
              "      <td>Business</td>\n",
              "      <td>30-40</td>\n",
              "      <td>None</td>\n",
              "      <td>Yes</td>\n",
              "      <td>Direct Traffic</td>\n",
              "      <td>1.0</td>\n",
              "      <td>305</td>\n",
              "      <td>1.00</td>\n",
              "      <td>0</td>\n",
              "    </tr>\n",
              "    <tr>\n",
              "      <th>4</th>\n",
              "      <td>Business</td>\n",
              "      <td>30-40</td>\n",
              "      <td>Netflix</td>\n",
              "      <td>Yes</td>\n",
              "      <td>Google</td>\n",
              "      <td>2.0</td>\n",
              "      <td>1428</td>\n",
              "      <td>1.00</td>\n",
              "      <td>1</td>\n",
              "    </tr>\n",
              "    <tr>\n",
              "      <th>...</th>\n",
              "      <td>...</td>\n",
              "      <td>...</td>\n",
              "      <td>...</td>\n",
              "      <td>...</td>\n",
              "      <td>...</td>\n",
              "      <td>...</td>\n",
              "      <td>...</td>\n",
              "      <td>...</td>\n",
              "      <td>...</td>\n",
              "    </tr>\n",
              "    <tr>\n",
              "      <th>9235</th>\n",
              "      <td>Unemployed/other</td>\n",
              "      <td>18-30</td>\n",
              "      <td>Both</td>\n",
              "      <td>No</td>\n",
              "      <td>Direct Traffic</td>\n",
              "      <td>8.0</td>\n",
              "      <td>1845</td>\n",
              "      <td>2.67</td>\n",
              "      <td>0</td>\n",
              "    </tr>\n",
              "    <tr>\n",
              "      <th>9236</th>\n",
              "      <td>Unemployed/other</td>\n",
              "      <td>18-30</td>\n",
              "      <td>Netflix</td>\n",
              "      <td>Yes</td>\n",
              "      <td>Direct Traffic</td>\n",
              "      <td>2.0</td>\n",
              "      <td>238</td>\n",
              "      <td>2.00</td>\n",
              "      <td>0</td>\n",
              "    </tr>\n",
              "    <tr>\n",
              "      <th>9237</th>\n",
              "      <td>Unemployed/other</td>\n",
              "      <td>18-30</td>\n",
              "      <td>None</td>\n",
              "      <td>No</td>\n",
              "      <td>Direct Traffic</td>\n",
              "      <td>2.0</td>\n",
              "      <td>199</td>\n",
              "      <td>2.00</td>\n",
              "      <td>0</td>\n",
              "    </tr>\n",
              "    <tr>\n",
              "      <th>9238</th>\n",
              "      <td>NaN</td>\n",
              "      <td>NaN</td>\n",
              "      <td>NaN</td>\n",
              "      <td>Yes</td>\n",
              "      <td>Google</td>\n",
              "      <td>3.0</td>\n",
              "      <td>499</td>\n",
              "      <td>3.00</td>\n",
              "      <td>1</td>\n",
              "    </tr>\n",
              "    <tr>\n",
              "      <th>9239</th>\n",
              "      <td>Unemployed/other</td>\n",
              "      <td>18-30</td>\n",
              "      <td>Netflix</td>\n",
              "      <td>Yes</td>\n",
              "      <td>Direct Traffic</td>\n",
              "      <td>6.0</td>\n",
              "      <td>1279</td>\n",
              "      <td>3.00</td>\n",
              "      <td>1</td>\n",
              "    </tr>\n",
              "  </tbody>\n",
              "</table>\n",
              "<p>9240 rows × 9 columns</p>\n",
              "</div>"
            ],
            "text/plain": [
              "            Occupation    Age  ... Page Views Per Visit Converted\n",
              "0             Business  30-40  ...                 0.00         0\n",
              "1             Business  30-40  ...                 2.50         0\n",
              "2             Business  18-30  ...                 2.00         1\n",
              "3             Business  30-40  ...                 1.00         0\n",
              "4             Business  30-40  ...                 1.00         1\n",
              "...                ...    ...  ...                  ...       ...\n",
              "9235  Unemployed/other  18-30  ...                 2.67         0\n",
              "9236  Unemployed/other  18-30  ...                 2.00         0\n",
              "9237  Unemployed/other  18-30  ...                 2.00         0\n",
              "9238               NaN    NaN  ...                 3.00         1\n",
              "9239  Unemployed/other  18-30  ...                 3.00         1\n",
              "\n",
              "[9240 rows x 9 columns]"
            ]
          },
          "metadata": {
            "tags": []
          },
          "execution_count": 5
        }
      ]
    },
    {
      "cell_type": "markdown",
      "metadata": {
        "code_folding": [],
        "id": "xaTW8BfV636G",
        "colab_type": "text"
      },
      "source": [
        "## **2. Data cleansing and preprocessing**"
      ]
    },
    {
      "cell_type": "markdown",
      "metadata": {
        "code_folding": [],
        "id": "WUwRwVj-636H",
        "colab_type": "text"
      },
      "source": [
        "### **Data exploration (EDA)**"
      ]
    },
    {
      "cell_type": "code",
      "metadata": {
        "id": "xp2ujNqR636I",
        "colab_type": "code",
        "colab": {}
      },
      "source": [
        "table=table.apply(pd.to_numeric, errors='ignore')"
      ],
      "execution_count": 0,
      "outputs": []
    },
    {
      "cell_type": "code",
      "metadata": {
        "id": "4RhYGCuw636K",
        "colab_type": "code",
        "colab": {}
      },
      "source": [
        "def plot_occurence(column):\n",
        "    plt.figure(figsize=(20,5))\n",
        "    plt.title(column)\n",
        "    sns.countplot(table[column])\n",
        "    plt.show()"
      ],
      "execution_count": 0,
      "outputs": []
    },
    {
      "cell_type": "code",
      "metadata": {
        "id": "W9N7yWk9636M",
        "colab_type": "code",
        "outputId": "3896c1c4-4c6e-4b77-fe14-82aa82d63323",
        "colab": {
          "base_uri": "https://localhost:8080/",
          "height": 1000
        }
      },
      "source": [
        "for c in table.columns:\n",
        "    plot_occurence(c)"
      ],
      "execution_count": 8,
      "outputs": [
        {
          "output_type": "display_data",
          "data": {
            "image/png": "[encoded data removed]",
            "text/plain": [
              "<Figure size 1440x360 with 1 Axes>"
            ]
          },
          "metadata": {
            "tags": []
          }
        },
        {
          "output_type": "display_data",
          "data": {
            "image/png": "[encoded data removed]",
            "text/plain": [
              "<Figure size 1440x360 with 1 Axes>"
            ]
          },
          "metadata": {
            "tags": []
          }
        },
        {
          "output_type": "display_data",
          "data": {
            "image/png": "[encoded data removed]",
            "text/plain": [
              "<Figure size 1440x360 with 1 Axes>"
            ]
          },
          "metadata": {
            "tags": []
          }
        },
        {
          "output_type": "display_data",
          "data": {
            "image/png": "[encoded data removed]",
            "text/plain": [
              "<Figure size 1440x360 with 1 Axes>"
            ]
          },
          "metadata": {
            "tags": []
          }
        },
        {
          "output_type": "display_data",
          "data": {
            "image/png": "[encoded data removed]",
            "text/plain": [
              "<Figure size 1440x360 with 1 Axes>"
            ]
          },
          "metadata": {
            "tags": []
          }
        },
        {
          "output_type": "display_data",
          "data": {
            "image/png": "[encoded data removed]",
            "text/plain": [
              "<Figure size 1440x360 with 1 Axes>"
            ]
          },
          "metadata": {
            "tags": []
          }
        },
        {
          "output_type": "display_data",
          "data": {
            "image/png": "[encoded data removed]",
            "text/plain": [
              "<Figure size 1440x360 with 1 Axes>"
            ]
          },
          "metadata": {
            "tags": []
          }
        },
        {
          "output_type": "display_data",
          "data": {
            "image/png": "[encoded data removed]",
            "text/plain": [
              "<Figure size 1440x360 with 1 Axes>"
            ]
          },
          "metadata": {
            "tags": []
          }
        },
        {
          "output_type": "display_data",
          "data": {
            "image/png": "[encoded data removed]",
            "text/plain": [
              "<Figure size 1440x360 with 1 Axes>"
            ]
          },
          "metadata": {
            "tags": []
          }
        }
      ]
    },
    {
      "cell_type": "markdown",
      "metadata": {
        "id": "wi6r0me7636O",
        "colab_type": "text"
      },
      "source": [
        "### **Empty & NaN values**"
      ]
    },
    {
      "cell_type": "markdown",
      "metadata": {
        "id": "u2TM-L0g636O",
        "colab_type": "text"
      },
      "source": [
        "Is there any column with empty (`NaN`/`None`) values?"
      ]
    },
    {
      "cell_type": "code",
      "metadata": {
        "id": "aliUe-SL636P",
        "colab_type": "code",
        "outputId": "12166c32-c465-43a2-df77-cf5ce392c875",
        "colab": {
          "base_uri": "https://localhost:8080/",
          "height": 187
        }
      },
      "source": [
        "table.isnull().sum()"
      ],
      "execution_count": 9,
      "outputs": [
        {
          "output_type": "execute_result",
          "data": {
            "text/plain": [
              "Occupation                     2690\n",
              "Age                            2709\n",
              "Subscriptions                  4767\n",
              "Already went to karaoke           0\n",
              "Lead Source                       0\n",
              "Total Visits                    137\n",
              "Total Time Spent on Website       0\n",
              "Page Views Per Visit            137\n",
              "Converted                         0\n",
              "dtype: int64"
            ]
          },
          "metadata": {
            "tags": []
          },
          "execution_count": 9
        }
      ]
    },
    {
      "cell_type": "code",
      "metadata": {
        "id": "s9Ab8Hxi636R",
        "colab_type": "code",
        "colab": {}
      },
      "source": [
        "table=table.fillna(0)"
      ],
      "execution_count": 0,
      "outputs": []
    },
    {
      "cell_type": "markdown",
      "metadata": {
        "id": "ldHMk70T636S",
        "colab_type": "text"
      },
      "source": [
        "### **Define your variables/features**\n"
      ]
    },
    {
      "cell_type": "code",
      "metadata": {
        "id": "l08XnE0K636T",
        "colab_type": "code",
        "colab": {}
      },
      "source": [
        "table=table.apply(pd.to_numeric, errors='ignore')\n",
        "cols=table.columns"
      ],
      "execution_count": 0,
      "outputs": []
    },
    {
      "cell_type": "code",
      "metadata": {
        "id": "HRoklCvd636V",
        "colab_type": "code",
        "colab": {}
      },
      "source": [
        "cat_cols = [\n",
        "    'Occupation',\n",
        "    'Age',\n",
        "    'Subscriptions',\n",
        "    'Already went to karaoke',\n",
        "    'Lead Source'\n",
        "]\n",
        "\n",
        "num_cols = [\n",
        "    'Total Visits', \n",
        "    'Total Time Spent on Website',\n",
        "    'Page Views Per Visit'\n",
        "]\n",
        "\n",
        "target_col = 'Converted'"
      ],
      "execution_count": 0,
      "outputs": []
    },
    {
      "cell_type": "markdown",
      "metadata": {
        "id": "nhZRdjIX636W",
        "colab_type": "text"
      },
      "source": [
        "## **Preparing and preprocessing data**"
      ]
    },
    {
      "cell_type": "markdown",
      "metadata": {
        "id": "15PhRHvP636X",
        "colab_type": "text"
      },
      "source": [
        "Based on the type you gave to each column, we are going to preprocess each of them to clean the data.\n",
        "\n",
        "Here we will :\n",
        "\n",
        "- Convert to dummies categorical variables\n",
        "- Do nothing to numerical variables (could be interesting to normalize them)\n",
        "- Create a simple function to do all those steps automatically"
      ]
    },
    {
      "cell_type": "code",
      "metadata": {
        "id": "wiovdbRa636Y",
        "colab_type": "code",
        "colab": {}
      },
      "source": [
        "from sklearn.model_selection import train_test_split\n",
        "\n",
        "def preproc(data,cat_cols,num_cols,target_col,test_size = 0.2):\n",
        "    \n",
        "    # Convert categorical variables to dummies (1 and 0)\n",
        "    data_cat = pd.get_dummies(data[cat_cols])\n",
        "    \n",
        "    # Keep the numerical columns\n",
        "    data_num = data[num_cols]\n",
        "    \n",
        "    # Concat the num and cat data\n",
        "    X = pd.concat([data_num, data_cat], axis=1)\n",
        "    \n",
        "    # Prepare target variable\n",
        "    y = data[target_col]\n",
        "    \n",
        "    # Split the dataset in train and test set\n",
        "    X_train, X_test, y_train, y_test = train_test_split(X, y, test_size=0.2)\n",
        "    \n",
        "    return X_train, X_test, y_train, y_test    "
      ],
      "execution_count": 0,
      "outputs": []
    },
    {
      "cell_type": "code",
      "metadata": {
        "id": "LsmEMtJu636a",
        "colab_type": "code",
        "colab": {}
      },
      "source": [
        "X_train, X_test, y_train, y_test = preproc(table,cat_cols,num_cols,target_col,test_size = 0.2)\n",
        "y = table[target_col]"
      ],
      "execution_count": 0,
      "outputs": []
    },
    {
      "cell_type": "markdown",
      "metadata": {
        "id": "XLBzWy7r636c",
        "colab_type": "text"
      },
      "source": [
        "## **3. Machine Learning**\n"
      ]
    },
    {
      "cell_type": "code",
      "metadata": {
        "id": "PXt4JOFW636c",
        "colab_type": "code",
        "colab": {}
      },
      "source": [
        "from sklearn.linear_model import LogisticRegression\n",
        "from sklearn.tree import DecisionTreeClassifier\n",
        "from sklearn.ensemble import RandomForestClassifier\n",
        "import xgboost as xgb"
      ],
      "execution_count": 0,
      "outputs": []
    },
    {
      "cell_type": "markdown",
      "metadata": {
        "id": "Ez3x11SH636e",
        "colab_type": "text"
      },
      "source": [
        "### **Linear Regression**"
      ]
    },
    {
      "cell_type": "markdown",
      "metadata": {
        "id": "1KnMiiXg636f",
        "colab_type": "text"
      },
      "source": [
        "Logistic Regression can be summarised as a 3 step process : \n",
        "- First, it is a linear regression that gives scores\n",
        "- Then it classifies the scores into categories (often 0 or 1 corresponding to 'yes' or 'no') using a threshold\n",
        "- The threshold can be changed according to your purpose"
      ]
    },
    {
      "cell_type": "code",
      "metadata": {
        "id": "U7UNcewA636f",
        "colab_type": "code",
        "colab": {}
      },
      "source": [
        "# Instantiate model\n",
        "lr=LogisticRegression()\n",
        "# Train the model on training data\n",
        "lr.fit(X_train,y_train)\n",
        "#predict on test data\n",
        "y_pred_lr = lr.predict(X_test)"
      ],
      "execution_count": 0,
      "outputs": []
    },
    {
      "cell_type": "code",
      "metadata": {
        "id": "JSNpTI1M636i",
        "colab_type": "code",
        "outputId": "05ec3f72-81e2-415e-d5e7-5fc77d4f541f",
        "colab": {
          "base_uri": "https://localhost:8080/",
          "height": 34
        }
      },
      "source": [
        "# Visualizing the scores using y_pred_proba_lr\n",
        "y_pred_proba_lr = lr.predict_proba(X_test)\n",
        "print(y_pred_proba_lr[:,1].astype('float64').round(2))"
      ],
      "execution_count": 17,
      "outputs": [
        {
          "output_type": "stream",
          "text": [
            "[0.93 0.03 0.07 ... 0.12 0.06 0.21]\n"
          ],
          "name": "stdout"
        }
      ]
    },
    {
      "cell_type": "markdown",
      "metadata": {
        "id": "WeYNXwO8636k",
        "colab_type": "text"
      },
      "source": [
        "### **Decision Tree**"
      ]
    },
    {
      "cell_type": "code",
      "metadata": {
        "id": "k0xhBTZ5636k",
        "colab_type": "code",
        "colab": {}
      },
      "source": [
        "# Instantiate model\n",
        "dt = DecisionTreeClassifier(random_state = 0)\n",
        "# Train the model on training data\n",
        "dt.fit(X_train, y_train)\n",
        "#predict on test data\n",
        "y_pred_dt = dt.predict(X_test)"
      ],
      "execution_count": 0,
      "outputs": []
    },
    {
      "cell_type": "markdown",
      "metadata": {
        "code_folding": [],
        "id": "G6DiV7Rq636n",
        "colab_type": "text"
      },
      "source": [
        "### **Random Forest**"
      ]
    },
    {
      "cell_type": "code",
      "metadata": {
        "id": "9F4xuDlk636p",
        "colab_type": "code",
        "colab": {}
      },
      "source": [
        "# Instantiate model with 1000 decision trees\n",
        "rf = RandomForestClassifier(n_estimators = 10)\n",
        "# Train the model on training data\n",
        "rf.fit(X_train, y_train)\n",
        "#predict on test data\n",
        "y_pred_rf = rf.predict(X_test)"
      ],
      "execution_count": 0,
      "outputs": []
    },
    {
      "cell_type": "markdown",
      "metadata": {
        "id": "k2YCOjYU636r",
        "colab_type": "text"
      },
      "source": [
        "### **XGBoost**"
      ]
    },
    {
      "cell_type": "code",
      "metadata": {
        "id": "Lg-sfQUj636s",
        "colab_type": "code",
        "colab": {}
      },
      "source": [
        "# Instantiate model\n",
        "xb=xgb.XGBClassifier(random_state=1,learning_rate=0.01)\n",
        "# Train the model on training data\n",
        "xb.fit(X_train, y_train)\n",
        "#predict on test data\n",
        "y_pred_xb = xb.predict(X_test)"
      ],
      "execution_count": 0,
      "outputs": []
    },
    {
      "cell_type": "markdown",
      "metadata": {
        "id": "-RdbAGaG636t",
        "colab_type": "text"
      },
      "source": [
        "## **4. Performance measurement**\n"
      ]
    },
    {
      "cell_type": "code",
      "metadata": {
        "id": "G5dmyhiQ636u",
        "colab_type": "code",
        "colab": {}
      },
      "source": [
        "from sklearn.metrics import accuracy_score"
      ],
      "execution_count": 0,
      "outputs": []
    },
    {
      "cell_type": "markdown",
      "metadata": {
        "id": "bOp23NK9636v",
        "colab_type": "text"
      },
      "source": [
        "### **4.1. Comparing Models** "
      ]
    },
    {
      "cell_type": "markdown",
      "metadata": {
        "id": "ZARmKy5u636y",
        "colab_type": "text"
      },
      "source": [
        "### **4.1.1 Confusion Matrix**\n"
      ]
    },
    {
      "cell_type": "markdown",
      "metadata": {
        "id": "zJcKm4Pn636z",
        "colab_type": "text"
      },
      "source": [
        "Every observation in the testing set is represented in exactly one box. For our case, it is a 2x2 matrix because there are 2 response classes (1 or 0 for \"Converted\" and \"Not Converted\").\n",
        "\n",
        "![Texte alternatif…](https://miro.medium.com/max/356/1*Z54JgbS4DUwWSknhDCvNTQ.png)\n",
        "\n",
        "\n",
        "For instance, if the target variable is to determine if you are pregnant:\n",
        "\n",
        "**True Positives (TP):** we correctly predicted that they are pregnant\n",
        "\n",
        "**True Negatives (TN):** we correctly predicted that they are not pregnant\n",
        "\n",
        "**False Positives (FP):** we incorrectly predicted that they are pregnant (a \"Type I error\") -->\n",
        "Falsely predict positive = \n",
        "Type I error\n",
        "\n",
        "**False Negatives (FN):** we incorrectly predicted that they are not pregnant (a \"Type II error\") --> \n",
        "Falsely predict negative =\n",
        "Type II error\n",
        "\n",
        "\n",
        "![Texte alternatif…](https://miro.medium.com/max/462/1*7EYylA6XlXSGBCF77j_rOA.png)\n"
      ]
    },
    {
      "cell_type": "code",
      "metadata": {
        "scrolled": true,
        "id": "rj4nmoqY636z",
        "colab_type": "code",
        "outputId": "851c80a8-e1b5-4344-ce5c-76dc2ae10246",
        "colab": {
          "base_uri": "https://localhost:8080/",
          "height": 581
        }
      },
      "source": [
        "from sklearn.metrics import confusion_matrix\n",
        "i=1\n",
        "titles = {1:'Logistic Regression',2:'Decision Tree',3:'Random Forest',4:'XGBoost'}\n",
        "\n",
        "plt.figure(figsize= [10,8] )\n",
        "\n",
        "for y_pred in [y_pred_lr,y_pred_dt,y_pred_rf,y_pred_xb] :\n",
        "    plt.subplot(2, 2, i)\n",
        "    cm = confusion_matrix(y_test, y_pred)\n",
        "    sns.heatmap(cm, annot=True,fmt='.0f',annot_kws={\"size\": 20,\"va\":'center',\"ha\":\"center\"},cmap='Blues',cbar=False)\n",
        "    plt.title(titles.get(i,'Not found'), fontdict={'fontsize': 30,'fontweight' : 10})\n",
        "    i= i+1\n",
        "    plt.tight_layout()\n",
        "    plt.xlabel(\"Actual\")\n",
        "    plt.ylabel(\"Predicted\")\n",
        "\n",
        "plt.show()"
      ],
      "execution_count": 83,
      "outputs": [
        {
          "output_type": "display_data",
          "data": {
            "image/png": "[encoded data removed]",
            "text/plain": [
              "<Figure size 720x576 with 4 Axes>"
            ]
          },
          "metadata": {
            "tags": []
          }
        }
      ]
    },
    {
      "cell_type": "markdown",
      "metadata": {
        "id": "zLGhqDBo6361",
        "colab_type": "text"
      },
      "source": [
        "### **4.1.3 Metrics computed from a confusion matrix**"
      ]
    },
    {
      "cell_type": "markdown",
      "metadata": {
        "id": "pDV17EHS6361",
        "colab_type": "text"
      },
      "source": [
        "**Accuracy:** Overall, how often is the classifier correct?"
      ]
    },
    {
      "cell_type": "code",
      "metadata": {
        "id": "20qze4O6FxhT",
        "colab_type": "code",
        "colab": {
          "base_uri": "https://localhost:8080/",
          "height": 85
        },
        "outputId": "e62235c6-efdf-466c-fc49-5cc59b8c607e"
      },
      "source": [
        "# (TP + TN) / (TP + TN + FP + FN)\n",
        "i=1\n",
        "for y_pred in [y_pred_lr,y_pred_dt,y_pred_rf,y_pred_xb] :\n",
        "    print(str(titles[i]) + ' : ' + str(round(metrics.accuracy_score(y_test, y_pred),2)))\n",
        "    i+=1"
      ],
      "execution_count": 43,
      "outputs": [
        {
          "output_type": "stream",
          "text": [
            "Logistic Regression : 0.83\n",
            "Decision Tree : 0.8\n",
            "Random Forest : 0.83\n",
            "XGBoost : 0.82\n"
          ],
          "name": "stdout"
        }
      ]
    },
    {
      "cell_type": "markdown",
      "metadata": {
        "id": "Qa8ikK4q6363",
        "colab_type": "text"
      },
      "source": [
        "**Error:** Overall, how often is the classifier incorrect?"
      ]
    },
    {
      "cell_type": "code",
      "metadata": {
        "id": "VQgty1-46364",
        "colab_type": "code",
        "outputId": "4a892a20-6e89-4267-bb9d-9082773d58c9",
        "colab": {
          "base_uri": "https://localhost:8080/",
          "height": 85
        }
      },
      "source": [
        "#classification_error = (FP + FN) / float(TP + TN + FP + FN)\n",
        "i=1\n",
        "for y_pred in [y_pred_lr,y_pred_dt,y_pred_rf,y_pred_xb] :\n",
        "    print(str(titles[i]) + ' : ' + str(round(1 - metrics.accuracy_score(y_test, y_pred),2)))\n",
        "    i+=1"
      ],
      "execution_count": 25,
      "outputs": [
        {
          "output_type": "stream",
          "text": [
            "Logistic Regression : 0.17\n",
            "Decision Tree : 0.2\n",
            "Random Forest : 0.17\n",
            "XGBoost : 0.18\n"
          ],
          "name": "stdout"
        }
      ]
    },
    {
      "cell_type": "markdown",
      "metadata": {
        "id": "syxDBXgv6366",
        "colab_type": "text"
      },
      "source": [
        "**Sensitivity or Recall:** When the actual value is positive, how often is the prediction correct?\n",
        "\n",
        "Something we want to maximize\n",
        "How \"sensitive\" is the classifier to detecting positive instances?\n",
        "\n",
        "![Texte alternatif…](https://miro.medium.com/max/246/1*BT3awaBdZHsit5s41LPb9A.png)"
      ]
    },
    {
      "cell_type": "code",
      "metadata": {
        "id": "RjCm2TTh6368",
        "colab_type": "code",
        "outputId": "5ae6d530-9f6a-4f3e-c465-11ee309064c3",
        "colab": {
          "base_uri": "https://localhost:8080/",
          "height": 85
        }
      },
      "source": [
        "i=1\n",
        "for y_pred in [y_pred_lr,y_pred_dt,y_pred_rf,y_pred_xb] :\n",
        "    print(str(titles[i]) + ' : ' + str(round(metrics.recall_score(y_test, y_pred),2)))\n",
        "    i+=1"
      ],
      "execution_count": 26,
      "outputs": [
        {
          "output_type": "stream",
          "text": [
            "Logistic Regression : 0.69\n",
            "Decision Tree : 0.71\n",
            "Random Forest : 0.71\n",
            "XGBoost : 0.76\n"
          ],
          "name": "stdout"
        }
      ]
    },
    {
      "cell_type": "markdown",
      "metadata": {
        "id": "AeJcz4KU636-",
        "colab_type": "text"
      },
      "source": [
        "**Precision:** When a positive value is predicted, how often is the prediction correct?\n",
        "How \"precise\" is the classifier when predicting positive instances?\n",
        "\n",
        "![Texte alternatif…](https://miro.medium.com/max/249/1*QRIZDkk_FffXKs_07ZlhZw.png)"
      ]
    },
    {
      "cell_type": "code",
      "metadata": {
        "id": "XyHiNdg1636_",
        "colab_type": "code",
        "outputId": "730fe498-8fd7-410c-8dae-5f2487ccba20",
        "colab": {
          "base_uri": "https://localhost:8080/",
          "height": 85
        }
      },
      "source": [
        "i = 1\n",
        "for y_pred in [y_pred_lr,y_pred_dt,y_pred_rf,y_pred_xb] :\n",
        "    print(str(titles[i]) + ' : ' + str(round(metrics.precision_score(y_test, y_pred),3)))\n",
        "    i+=1"
      ],
      "execution_count": 27,
      "outputs": [
        {
          "output_type": "stream",
          "text": [
            "Logistic Regression : 0.811\n",
            "Decision Tree : 0.739\n",
            "Random Forest : 0.801\n",
            "XGBoost : 0.761\n"
          ],
          "name": "stdout"
        }
      ]
    },
    {
      "cell_type": "markdown",
      "metadata": {
        "id": "ms2AXUOM637A",
        "colab_type": "text"
      },
      "source": [
        "**Specificity:** When the actual value is negative, how often is the prediction correct?\n",
        "    \n",
        "Something we want to maximize\n",
        "How \"specific\" (or \"selective\") is the classifier in predicting positive instances?"
      ]
    },
    {
      "cell_type": "code",
      "metadata": {
        "id": "u8U8dA9W637B",
        "colab_type": "code",
        "outputId": "909035cc-3cd3-49bf-d519-9832b59b529b",
        "colab": {
          "base_uri": "https://localhost:8080/",
          "height": 85
        }
      },
      "source": [
        "# specificity = TN / (TN + FP)\n",
        "i = 1\n",
        "for y_pred in [y_pred_lr,y_pred_dt,y_pred_rf,y_pred_xb] :\n",
        "    cm = confusion_matrix(y_test, y_pred)\n",
        "    specificity = cm[1,1] / (cm[1,1]+cm[0,1])\n",
        "    print(str(titles[i]) + ' : ' + str(round(specificity,3)))\n",
        "    i+=1"
      ],
      "execution_count": 28,
      "outputs": [
        {
          "output_type": "stream",
          "text": [
            "Logistic Regression : 0.811\n",
            "Decision Tree : 0.739\n",
            "Random Forest : 0.801\n",
            "XGBoost : 0.761\n"
          ],
          "name": "stdout"
        }
      ]
    },
    {
      "cell_type": "markdown",
      "metadata": {
        "id": "JqUCNqUb637D",
        "colab_type": "text"
      },
      "source": [
        "**False Positive Rate:** When the actual value is negative, how often is the prediction incorrect?"
      ]
    },
    {
      "cell_type": "code",
      "metadata": {
        "id": "nlBflBri637D",
        "colab_type": "code",
        "outputId": "2b5f7b1b-78f8-4391-b26b-6e5ec61a9fd6",
        "colab": {
          "base_uri": "https://localhost:8080/",
          "height": 85
        }
      },
      "source": [
        "#false_positive_rate = FP / float(TN + FP)\n",
        "i = 1\n",
        "for y_pred in [y_pred_lr,y_pred_dt,y_pred_rf,y_pred_xb] :\n",
        "    cm = confusion_matrix(y_test, y_pred)\n",
        "    specificity = cm[1,1] / (cm[1,1]+cm[0,1])\n",
        "    print(str(titles[i]) + ' : ' + str(round(1-specificity,2)))\n",
        "    i+=1"
      ],
      "execution_count": 29,
      "outputs": [
        {
          "output_type": "stream",
          "text": [
            "Logistic Regression : 0.19\n",
            "Decision Tree : 0.26\n",
            "Random Forest : 0.2\n",
            "XGBoost : 0.24\n"
          ],
          "name": "stdout"
        }
      ]
    },
    {
      "cell_type": "markdown",
      "metadata": {
        "id": "EOKxOmo5637F",
        "colab_type": "text"
      },
      "source": [
        "**Conclusion:**\n",
        "\n",
        "**Which metrics should you focus on?**\n",
        "\n",
        "Choice of metric depends on your **business objective**\n",
        "- Identify if FP or FN is more important to reduce\n",
        "- Choose metric with relevant variable (FP or FN in the equation)\n",
        "\n",
        "For example : \n",
        "- If you want to filter spam e-mails (positive class 1 will represent spams), optimize for precision or specificity. Because false negatives (spam goes to the inbox) are more acceptable than false positives (non-spam is caught by the spam filter)\n",
        "\n",
        "\n",
        "- Fraudulent transaction detector (positive class is \"fraud\"): optimize for sensitivity. Because false positives (normal transactions that are flagged as possible fraud) are more acceptable than false negatives (fraudulent transactions that are not detected)"
      ]
    },
    {
      "cell_type": "markdown",
      "metadata": {
        "id": "zrreGtS1637F",
        "colab_type": "text"
      },
      "source": [
        "### **4.2 Adjusting the threshold**"
      ]
    },
    {
      "cell_type": "markdown",
      "metadata": {
        "id": "-iNslXtG637G",
        "colab_type": "text"
      },
      "source": [
        "#### **4.2.1 Receiver operating characteristic (ROC) and Area Under ROC Curve (AUC)**"
      ]
    },
    {
      "cell_type": "markdown",
      "metadata": {
        "id": "ukRh1dLs637G",
        "colab_type": "text"
      },
      "source": [
        "The ROC curve is a graphical plot which illustrates the **performance** of a binary classifier system as its **discrimination threshold varies**. \n",
        "\n",
        "It is created by **plotting sensitivity/recall** (the fraction of true positives out of the positives) vs. **false positive rate or 1-Specificity** (the fraction of false positives out of the negatives) **at various threshold settings.** \n",
        "\n",
        "![Texte alternatif…](https://www.saedsayad.com/images/Chart_ROC.png)\n"
      ]
    },
    {
      "cell_type": "markdown",
      "metadata": {
        "id": "I36IKDfW637H",
        "colab_type": "text"
      },
      "source": [
        "**Area under ROC curve is often used as a measure of quality of the classification models.**\n",
        "A random classifier has an area under the curve of 0.5, while AUC for a perfect classifier is equal to 1. \n",
        "\n",
        "An area under the ROC curve of 0.8, for example, means that a randomly selected case from the group with the target equals 1 has a score larger than that for a randomly chosen case from the group with the target equals 0 in 80% of the time.\n",
        "\n",
        "![Texte alternatif…](https://www.saedsayad.com/images/Chart_AUC_2.png)\n"
      ]
    },
    {
      "cell_type": "code",
      "metadata": {
        "id": "3ggimHRT637I",
        "colab_type": "code",
        "colab": {}
      },
      "source": [
        "from sklearn.metrics import roc_curve, auc\n",
        "\n",
        "# First , we need to retrieve scores before the threshold-based classification into positive and negative classes \n",
        "y_pred_proba_lr = lr.predict_proba(X_test)\n",
        "y_pred_proba_dt = dt.predict_proba(X_test)\n",
        "y_pred_proba_rf = rf.predict_proba(X_test)\n",
        "y_pred_proba_xb = xb.predict_proba(X_test)"
      ],
      "execution_count": 0,
      "outputs": []
    },
    {
      "cell_type": "code",
      "metadata": {
        "id": "zOfddByw637K",
        "colab_type": "code",
        "outputId": "b94e3000-ab84-4ede-ae18-237810dba4cb",
        "colab": {
          "base_uri": "https://localhost:8080/",
          "height": 295
        }
      },
      "source": [
        "# IMPORTANT: first argument is true values, second argument is predicted probabilities\n",
        "fpr_lr, tpr_lr, thresholds_lr = metrics.roc_curve(y_test, y_pred_proba_lr[:, 1])\n",
        "fpr_dt, tpr_dt, thresholds_dt = metrics.roc_curve(y_test, y_pred_proba_dt[:, 1])\n",
        "fpr_rf, tpr_rf, thresholds_rf = metrics.roc_curve(y_test, y_pred_proba_rf[:, 1])\n",
        "fpr_xb, tpr_xb, thresholds_xb = metrics.roc_curve(y_test, y_pred_proba_xb[:, 1])\n",
        "\n",
        "roc_auc_lr = auc(fpr_lr, tpr_lr)\n",
        "roc_auc_dt = auc(fpr_dt, tpr_dt)\n",
        "roc_auc_rf = auc(fpr_rf, tpr_rf)\n",
        "roc_auc_xb = auc(fpr_xb, tpr_xb)\n",
        "\n",
        "plt.plot(fpr_lr, tpr_lr, color='darkorange',\n",
        "         lw=2,label='Logistic Reg. (AUC = %0.2f)' % roc_auc_lr)\n",
        "plt.plot(fpr_dt, tpr_dt, color='violet',\n",
        "         lw=2,label='Decision Tree (AUC = %0.2f)' % roc_auc_dt)\n",
        "plt.plot(fpr_rf, tpr_rf, color='green',\n",
        "         lw=2,label='Random Forest (AUC = %0.2f)' % roc_auc_rf)\n",
        "plt.plot(fpr_xb, tpr_xb, color='red',\n",
        "         lw=2,label='XGBoost(AUC = %0.2f)' % roc_auc_xb)\n",
        "\n",
        "plt.plot([0, 1], [0, 1], color='navy', lw=2, linestyle='--',label = 'Random')\n",
        "plt.xlim([0.0, 1.0])\n",
        "plt.ylim([0.0, 1.05])\n",
        "plt.title('ROC curve')\n",
        "plt.xlabel('False Positive Rate (1 - Specificity)')\n",
        "plt.ylabel('True Positive Rate (Sensitivity)')\n",
        "plt.legend(loc='best')\n",
        "plt.grid(True)\n"
      ],
      "execution_count": 35,
      "outputs": [
        {
          "output_type": "display_data",
          "data": {
            "image/png": "[encoded data removed]",
            "text/plain": [
              "<Figure size 432x288 with 1 Axes>"
            ]
          },
          "metadata": {
            "tags": []
          }
        }
      ]
    },
    {
      "cell_type": "markdown",
      "metadata": {
        "id": "4tAQ__XZ637M",
        "colab_type": "text"
      },
      "source": [
        "Here, globally the worst classifier is the decision tree, while the best ones are Logistic Regression and XGBoost.\n",
        "\n",
        "You can use AUC in complement with recall and precision metrics that are the most appropriate for your business question to choose between models"
      ]
    },
    {
      "cell_type": "markdown",
      "metadata": {
        "id": "_uPOpXh0637N",
        "colab_type": "text"
      },
      "source": [
        "#### **4.2.2 Precision Recall Curve to identify best threshold for a specific model**"
      ]
    },
    {
      "cell_type": "code",
      "metadata": {
        "id": "I69zS35_637N",
        "colab_type": "code",
        "outputId": "1f8752b6-496d-4cb8-9100-c711ab4d8a45",
        "colab": {
          "base_uri": "https://localhost:8080/",
          "height": 295
        }
      },
      "source": [
        "# Let's compare thresholds on Logistic Regression and XGBoost\n",
        "from sklearn.metrics import precision_recall_curve\n",
        "\n",
        "precision_lr, recall_lr, thresholds_lr = precision_recall_curve(y_test, y_pred_proba_lr[:, 1]) \n",
        "\n",
        "pr_auc = metrics.auc(recall_lr, precision_lr)\n",
        "\n",
        "plt.title(\"Precision-Recall vs Threshold Chart for Logistic Regression\")\n",
        "plt.plot(thresholds_lr, precision_lr[: -1], \"b--\", label=\"Precision\")\n",
        "plt.plot(thresholds_lr, recall_lr[: -1], \"r--\", label=\"Recall\")\n",
        "plt.ylabel(\"Precision, Recall\")\n",
        "plt.xlabel(\"Threshold\")\n",
        "plt.legend(loc=\"lower left\")\n",
        "plt.ylim([0,1])\n",
        "plt.show()"
      ],
      "execution_count": 32,
      "outputs": [
        {
          "output_type": "display_data",
          "data": {
            "image/png": "[encoded data removed]",
            "text/plain": [
              "<Figure size 432x288 with 1 Axes>"
            ]
          },
          "metadata": {
            "tags": []
          }
        }
      ]
    },
    {
      "cell_type": "code",
      "metadata": {
        "id": "R4FPbQ4Z637P",
        "colab_type": "code",
        "outputId": "242c2eee-6180-43eb-84c7-ae2eb62fbe01",
        "colab": {
          "base_uri": "https://localhost:8080/",
          "height": 295
        }
      },
      "source": [
        "# Let's compare thresholds on Logistic Regression and XGBoost\n",
        "from sklearn.metrics import precision_recall_curve\n",
        "\n",
        "precision_xb, recall_xb, thresholds_xb = precision_recall_curve(y_test, y_pred_proba_xb[:, 1]) \n",
        "\n",
        "pr_auc = metrics.auc(recall_xb, precision_xb)\n",
        "\n",
        "plt.title(\"Precision-Recall vs Threshold Chart for XGBoost\")\n",
        "plt.plot(thresholds_xb, precision_xb[: -1], \"b--\", label=\"Precision\")\n",
        "plt.plot(thresholds_xb, recall_xb[: -1], \"r--\", label=\"Recall\")\n",
        "plt.ylabel(\"Precision, Recall\")\n",
        "plt.xlabel(\"Threshold\")\n",
        "plt.legend(loc=\"lower left\")\n",
        "plt.ylim([0,1])\n",
        "plt.show()"
      ],
      "execution_count": 33,
      "outputs": [
        {
          "output_type": "display_data",
          "data": {
            "image/png": "[encoded data removed]",
            "text/plain": [
              "<Figure size 432x288 with 1 Axes>"
            ]
          },
          "metadata": {
            "tags": []
          }
        }
      ]
    },
    {
      "cell_type": "markdown",
      "metadata": {
        "id": "XBIIUB7Z637U",
        "colab_type": "text"
      },
      "source": [
        "# **Conclusion**\n",
        "\n",
        "The threshold must be chosen according to the model you choose and the business objective."
      ]
    },
    {
      "cell_type": "markdown",
      "metadata": {
        "id": "hd2FO7Tn637V",
        "colab_type": "text"
      },
      "source": [
        "**NB :** the analysis of the **importance of the variables** in the modelisation is also important to take into account for **interpretability** purposes, for scoring problems as well as any Machine Learning problem."
      ]
    }
  ]
}