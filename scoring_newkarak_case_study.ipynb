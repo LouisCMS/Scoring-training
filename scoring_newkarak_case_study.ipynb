{
  "nbformat": 4,
  "nbformat_minor": 0,
  "metadata": {
    "kernelspec": {
      "display_name": "Python 3",
      "language": "python",
      "name": "python3"
    },
    "language_info": {
      "codemirror_mode": {
        "name": "ipython",
        "version": 3
      },
      "file_extension": ".py",
      "mimetype": "text/x-python",
      "name": "python",
      "nbconvert_exporter": "python",
      "pygments_lexer": "ipython3",
      "version": "3.6.4"
    },
    "colab": {
      "name": "scoring-newkarak-case-study.ipynb",
      "provenance": [],
      "collapsed_sections": [],
      "include_colab_link": true
    }
  },
  "cells": [
    {
      "cell_type": "markdown",
      "metadata": {
        "id": "view-in-github",
        "colab_type": "text"
      },
      "source": [
        "<a href=\"https://colab.research.google.com/github/LouisCMS/Scoring-training/blob/master/scoring_newkarak_case_study.ipynb\" target=\"_parent\"><img src=\"https://colab.research.google.com/assets/colab-badge.svg\" alt=\"Open In Colab\"/></a>"
      ]
    },
    {
      "cell_type": "markdown",
      "metadata": {
        "id": "YBCkX6DFL4yt",
        "colab_type": "text"
      },
      "source": [
        "# **LEAD SCORING FOR NEWKARAK**\n",
        "\n",
        "---\n",
        "\n",
        "\n",
        "\n",
        "\n",
        "##  *-- Click \"open this Notebook in draft mode\" in the upper left to be able to run cells --* "
      ]
    },
    {
      "cell_type": "markdown",
      "metadata": {
        "id": "Ne61xnvIL4yw",
        "colab_type": "text"
      },
      "source": [
        "# The society  « Newkarak » is launching a **new type of karaoke worldwide.** \n",
        "\n",
        "They are launching a new **disruptive concept** with both online karaoke rooms and physical clubs for karaoke lovers. They only work with **monthly subscription** and aim to become the Netflix of karaoke.\n",
        "From data collected through online surveys on their prospects, **they want Ekimetrics to help them target their online prospects** with the best possible performance.\n",
        "At your last Eki-event, your CEO understood that you where killing the game in terms of karaoke. Hence he put you in charge of this **lead scoring project**. \n",
        "\n",
        "**Are you up to it ?**\n",
        "\n",
        "![](https://media.giphy.com/media/kKJ8YFi1VVhHFudiz2/giphy.gif)\n"
      ]
    },
    {
      "cell_type": "markdown",
      "metadata": {
        "id": "xjj5HsMOL4yx",
        "colab_type": "text"
      },
      "source": [
        "## Settings and libraries "
      ]
    },
    {
      "cell_type": "code",
      "metadata": {
        "id": "UnA1JuwML4yz",
        "colab_type": "code",
        "outputId": "49fe9c75-f727-4d6d-8163-2be5015cefde",
        "colab": {
          "base_uri": "https://localhost:8080/",
          "height": 17
        }
      },
      "source": [
        "# Base Data Science snippet\n",
        "import pandas as pd\n",
        "import numpy as np\n",
        "import os\n",
        "import time\n",
        "from tqdm import tqdm_notebook\n",
        "\n",
        "# visulaisation\n",
        "import matplotlib.pyplot as plt\n",
        "import seaborn as sns\n",
        "from matplotlib.pyplot import xticks\n",
        "%matplotlib inline\n",
        "\n",
        "from IPython.core.display import display, HTML\n",
        "display(HTML(\"<style>.container { width:100% !important; }</style>\"))\n",
        "display(HTML(\"<script>$('div.cell.selected').next().height(100);</script>\"))"
      ],
      "execution_count": 1,
      "outputs": [
        {
          "output_type": "display_data",
          "data": {
            "text/html": [
              "<style>.container { width:100% !important; }</style>"
            ],
            "text/plain": [
              "<IPython.core.display.HTML object>"
            ]
          },
          "metadata": {
            "tags": []
          }
        },
        {
          "output_type": "display_data",
          "data": {
            "text/html": [
              "<script>$('div.cell.selected').next().height(100);</script>"
            ],
            "text/plain": [
              "<IPython.core.display.HTML object>"
            ]
          },
          "metadata": {
            "tags": []
          }
        }
      ]
    },
    {
      "cell_type": "markdown",
      "metadata": {
        "id": "UjwJ6QfEL4y7",
        "colab_type": "text"
      },
      "source": [
        "If you have an error here (for example ``ModuleNotFoundError: No module named 'seaborn'``) don't forget to install every modules. <br>\n",
        "For that, create a new cell and type <br>```!pip install seaborn```<br>It should work afterward when you re-run the import cell"
      ]
    },
    {
      "cell_type": "markdown",
      "metadata": {
        "id": "SCclZIAxL4y8",
        "colab_type": "text"
      },
      "source": [
        "## 1. Data extraction and aggregation"
      ]
    },
    {
      "cell_type": "markdown",
      "metadata": {
        "id": "zdVs2b9LL4y9",
        "colab_type": "text"
      },
      "source": [
        "## Downloading the data"
      ]
    },
    {
      "cell_type": "code",
      "metadata": {
        "id": "5TQsHPPAoHXu",
        "colab_type": "code",
        "colab": {
          "base_uri": "https://localhost:8080/",
          "height": 34
        },
        "outputId": "471844f1-e507-4cb0-edb9-440934eabdf8"
      },
      "source": [
        "!git clone https://github.com/LouisCMS/Scoring-training.git"
      ],
      "execution_count": 7,
      "outputs": [
        {
          "output_type": "stream",
          "text": [
            "fatal: destination path 'Scoring-training' already exists and is not an empty directory.\n"
          ],
          "name": "stdout"
        }
      ]
    },
    {
      "cell_type": "code",
      "metadata": {
        "id": "jFdQ2kAwo8vR",
        "colab_type": "code",
        "colab": {}
      },
      "source": [
        "data_url = 'https://raw.githubusercontent.com/LouisCMS/Scoring-training/master/table-processed.csv'\n",
        "table = pd.read_csv(data_url)\n",
        "# Dataset is now stored in a Pandas Dataframe"
      ],
      "execution_count": 0,
      "outputs": []
    },
    {
      "cell_type": "code",
      "metadata": {
        "id": "qaf0t1o2L4zA",
        "colab_type": "code",
        "colab": {}
      },
      "source": [
        "table=table.drop([0,1]).reset_index(level = 0).drop('index',axis=1)"
      ],
      "execution_count": 0,
      "outputs": []
    },
    {
      "cell_type": "code",
      "metadata": {
        "id": "CtOD3xz3L4zD",
        "colab_type": "code",
        "outputId": "dd971368-6c3b-474c-ba5c-de47fdfbfcca",
        "colab": {
          "base_uri": "https://localhost:8080/",
          "height": 776
        }
      },
      "source": [
        "table"
      ],
      "execution_count": 10,
      "outputs": [
        {
          "output_type": "execute_result",
          "data": {
            "text/html": [
              "<div>\n",
              "<style scoped>\n",
              "    .dataframe tbody tr th:only-of-type {\n",
              "        vertical-align: middle;\n",
              "    }\n",
              "\n",
              "    .dataframe tbody tr th {\n",
              "        vertical-align: top;\n",
              "    }\n",
              "\n",
              "    .dataframe thead th {\n",
              "        text-align: right;\n",
              "    }\n",
              "</style>\n",
              "<table border=\"1\" class=\"dataframe\">\n",
              "  <thead>\n",
              "    <tr style=\"text-align: right;\">\n",
              "      <th></th>\n",
              "      <th>Lead Origin</th>\n",
              "      <th>Lead Source</th>\n",
              "      <th>Do Not Email</th>\n",
              "      <th>TotalVisits</th>\n",
              "      <th>Total Time Spent on Website</th>\n",
              "      <th>Page Views Per Visit</th>\n",
              "      <th>Last Activity</th>\n",
              "      <th>How did you hear about NewKarak</th>\n",
              "      <th>What is your current occupation</th>\n",
              "      <th>Receive More Updates About Our Courses</th>\n",
              "      <th>Last Notable Activity</th>\n",
              "      <th>Converted</th>\n",
              "      <th>Prospect ID</th>\n",
              "      <th>Selected</th>\n",
              "      <th>Selected (1)</th>\n",
              "      <th>Selected (2)</th>\n",
              "    </tr>\n",
              "  </thead>\n",
              "  <tbody>\n",
              "    <tr>\n",
              "      <th>0</th>\n",
              "      <td>Landing Page Submission</td>\n",
              "      <td>Direct Traffic</td>\n",
              "      <td>Yes</td>\n",
              "      <td>2.0</td>\n",
              "      <td>365.0</td>\n",
              "      <td>2.0</td>\n",
              "      <td>Came to Noche and sung Maitre Gims</td>\n",
              "      <td>Heard at the Bowler</td>\n",
              "      <td>Reg</td>\n",
              "      <td>No</td>\n",
              "      <td>Came to Noche and sung Maitre Gims</td>\n",
              "      <td>0</td>\n",
              "      <td>9f0fac80-4bad-4240-a45f-d5260b963f1b</td>\n",
              "      <td>No</td>\n",
              "      <td>No</td>\n",
              "      <td>No</td>\n",
              "    </tr>\n",
              "    <tr>\n",
              "      <th>1</th>\n",
              "      <td>Nothing</td>\n",
              "      <td>Olark Chat</td>\n",
              "      <td>No</td>\n",
              "      <td>0.0</td>\n",
              "      <td>0.0</td>\n",
              "      <td>0.0</td>\n",
              "      <td>Chat Conversation</td>\n",
              "      <td>Heard at the Bowler</td>\n",
              "      <td>Reg</td>\n",
              "      <td>No</td>\n",
              "      <td>Other</td>\n",
              "      <td>0</td>\n",
              "      <td>9e238a96-0c5c-46ce-b225-770d1cb58181</td>\n",
              "      <td>No</td>\n",
              "      <td>No</td>\n",
              "      <td>No</td>\n",
              "    </tr>\n",
              "    <tr>\n",
              "      <th>2</th>\n",
              "      <td>Landing Page Submission</td>\n",
              "      <td>Google</td>\n",
              "      <td>No</td>\n",
              "      <td>4.0</td>\n",
              "      <td>176.0</td>\n",
              "      <td>2.0</td>\n",
              "      <td>Email Opened</td>\n",
              "      <td>Online Search</td>\n",
              "      <td>Reg</td>\n",
              "      <td>No</td>\n",
              "      <td>Other</td>\n",
              "      <td>0</td>\n",
              "      <td>53dd16bd-8201-448d-8e20-97de1cf44a7f</td>\n",
              "      <td>No</td>\n",
              "      <td>No</td>\n",
              "      <td>No</td>\n",
              "    </tr>\n",
              "    <tr>\n",
              "      <th>3</th>\n",
              "      <td>Landing Page Submission</td>\n",
              "      <td>Organic Search</td>\n",
              "      <td>Yes</td>\n",
              "      <td>2.0</td>\n",
              "      <td>387.0</td>\n",
              "      <td>2.0</td>\n",
              "      <td>Came to Noche and sung Maitre Gims</td>\n",
              "      <td>Heard at the Bowler</td>\n",
              "      <td>Reg</td>\n",
              "      <td>No</td>\n",
              "      <td>Other</td>\n",
              "      <td>0</td>\n",
              "      <td>6b74c48f-78de-48be-b5f4-5304880b2877</td>\n",
              "      <td>No</td>\n",
              "      <td>No</td>\n",
              "      <td>No</td>\n",
              "    </tr>\n",
              "    <tr>\n",
              "      <th>4</th>\n",
              "      <td>Nothing</td>\n",
              "      <td>Organic Search</td>\n",
              "      <td>No</td>\n",
              "      <td>1.0</td>\n",
              "      <td>143.0</td>\n",
              "      <td>1.0</td>\n",
              "      <td>Came to Noche and sung \"Country Home\"</td>\n",
              "      <td>Heard at the Bowler</td>\n",
              "      <td>Reg</td>\n",
              "      <td>No</td>\n",
              "      <td>Other</td>\n",
              "      <td>0</td>\n",
              "      <td>403e80b7-da91-486d-981a-a3db2acd267d</td>\n",
              "      <td>No</td>\n",
              "      <td>No</td>\n",
              "      <td>No</td>\n",
              "    </tr>\n",
              "    <tr>\n",
              "      <th>...</th>\n",
              "      <td>...</td>\n",
              "      <td>...</td>\n",
              "      <td>...</td>\n",
              "      <td>...</td>\n",
              "      <td>...</td>\n",
              "      <td>...</td>\n",
              "      <td>...</td>\n",
              "      <td>...</td>\n",
              "      <td>...</td>\n",
              "      <td>...</td>\n",
              "      <td>...</td>\n",
              "      <td>...</td>\n",
              "      <td>...</td>\n",
              "      <td>...</td>\n",
              "      <td>...</td>\n",
              "      <td>...</td>\n",
              "    </tr>\n",
              "    <tr>\n",
              "      <th>6851</th>\n",
              "      <td>Nothing</td>\n",
              "      <td>Direct Traffic</td>\n",
              "      <td>No</td>\n",
              "      <td>13.0</td>\n",
              "      <td>1409.0</td>\n",
              "      <td>2.6</td>\n",
              "      <td>SMS Sent</td>\n",
              "      <td>Heard at the Bowler</td>\n",
              "      <td>Reg</td>\n",
              "      <td>No</td>\n",
              "      <td>SMS Sent</td>\n",
              "      <td>1</td>\n",
              "      <td>3f715465-2546-47cd-afa8-8b8dc63b8b43</td>\n",
              "      <td>NaN</td>\n",
              "      <td>No</td>\n",
              "      <td>No</td>\n",
              "    </tr>\n",
              "    <tr>\n",
              "      <th>6852</th>\n",
              "      <td>Landing Page Submission</td>\n",
              "      <td>Direct Traffic</td>\n",
              "      <td>No</td>\n",
              "      <td>5.0</td>\n",
              "      <td>210.0</td>\n",
              "      <td>2.5</td>\n",
              "      <td>SMS Sent</td>\n",
              "      <td>Heard at the Bowler</td>\n",
              "      <td>Reg</td>\n",
              "      <td>No</td>\n",
              "      <td>Other</td>\n",
              "      <td>1</td>\n",
              "      <td>c0b25922-511f-4c56-852e-ced210a45447</td>\n",
              "      <td>NaN</td>\n",
              "      <td>No</td>\n",
              "      <td>No</td>\n",
              "    </tr>\n",
              "    <tr>\n",
              "      <th>6853</th>\n",
              "      <td>Landing Page Submission</td>\n",
              "      <td>Direct Traffic</td>\n",
              "      <td>Yes</td>\n",
              "      <td>8.0</td>\n",
              "      <td>1845.0</td>\n",
              "      <td>2.67</td>\n",
              "      <td>Came to Noche and sung Maitre Gims</td>\n",
              "      <td>Heard at the Bowler</td>\n",
              "      <td>Reg</td>\n",
              "      <td>No</td>\n",
              "      <td>Came to Noche and sung Maitre Gims</td>\n",
              "      <td>1</td>\n",
              "      <td>19d6451e-fcd6-407c-b83b-48e1af805ea9</td>\n",
              "      <td>NaN</td>\n",
              "      <td>No</td>\n",
              "      <td>No</td>\n",
              "    </tr>\n",
              "    <tr>\n",
              "      <th>6854</th>\n",
              "      <td>Landing Page Submission</td>\n",
              "      <td>Google</td>\n",
              "      <td>No</td>\n",
              "      <td>3.0</td>\n",
              "      <td>499.0</td>\n",
              "      <td>3.0</td>\n",
              "      <td>SMS Sent</td>\n",
              "      <td>Online Search</td>\n",
              "      <td>NaN</td>\n",
              "      <td>No</td>\n",
              "      <td>SMS Sent</td>\n",
              "      <td>1</td>\n",
              "      <td>5330a7d1-2f2b-4df4-85d6-64ca2f6b95b9</td>\n",
              "      <td>NaN</td>\n",
              "      <td>No</td>\n",
              "      <td>No</td>\n",
              "    </tr>\n",
              "    <tr>\n",
              "      <th>6855</th>\n",
              "      <td>Landing Page Submission</td>\n",
              "      <td>Direct Traffic</td>\n",
              "      <td>No</td>\n",
              "      <td>6.0</td>\n",
              "      <td>1279.0</td>\n",
              "      <td>3.0</td>\n",
              "      <td>SMS Sent</td>\n",
              "      <td>Heard at the Bowler</td>\n",
              "      <td>Reg</td>\n",
              "      <td>No</td>\n",
              "      <td>Other</td>\n",
              "      <td>1</td>\n",
              "      <td>571b5c8e-a5b2-4d57-8574-f2ffb06fdeff</td>\n",
              "      <td>NaN</td>\n",
              "      <td>No</td>\n",
              "      <td>No</td>\n",
              "    </tr>\n",
              "  </tbody>\n",
              "</table>\n",
              "<p>6856 rows × 16 columns</p>\n",
              "</div>"
            ],
            "text/plain": [
              "                  Lead Origin     Lead Source  ... Selected (1) Selected (2)\n",
              "0     Landing Page Submission  Direct Traffic  ...           No           No\n",
              "1                     Nothing      Olark Chat  ...           No           No\n",
              "2     Landing Page Submission          Google  ...           No           No\n",
              "3     Landing Page Submission  Organic Search  ...           No           No\n",
              "4                     Nothing  Organic Search  ...           No           No\n",
              "...                       ...             ...  ...          ...          ...\n",
              "6851                  Nothing  Direct Traffic  ...           No           No\n",
              "6852  Landing Page Submission  Direct Traffic  ...           No           No\n",
              "6853  Landing Page Submission  Direct Traffic  ...           No           No\n",
              "6854  Landing Page Submission          Google  ...           No           No\n",
              "6855  Landing Page Submission  Direct Traffic  ...           No           No\n",
              "\n",
              "[6856 rows x 16 columns]"
            ]
          },
          "metadata": {
            "tags": []
          },
          "execution_count": 10
        }
      ]
    },
    {
      "cell_type": "markdown",
      "metadata": {
        "code_folding": [],
        "id": "X0nwwVmlL4zH",
        "colab_type": "text"
      },
      "source": [
        "## 2. Data cleansing and preprocessing"
      ]
    },
    {
      "cell_type": "markdown",
      "metadata": {
        "code_folding": [],
        "id": "Zx4ky1RiL4zJ",
        "colab_type": "text"
      },
      "source": [
        "### Data exploration (EDA)"
      ]
    },
    {
      "cell_type": "code",
      "metadata": {
        "id": "Tj1AGs7VL4zJ",
        "colab_type": "code",
        "colab": {}
      },
      "source": [
        "def plot_occurence(column):\n",
        "    plt.figure(figsize=(20,5))\n",
        "    plt.title(column)\n",
        "    sns.countplot(table[column])\n",
        "    plt.show()"
      ],
      "execution_count": 0,
      "outputs": []
    },
    {
      "cell_type": "code",
      "metadata": {
        "id": "K0YnHqDiL4zO",
        "colab_type": "code",
        "outputId": "3436a1d7-a7a4-44c9-acd5-311a41c73e82",
        "colab": {}
      },
      "source": [
        "for c in table.columns:\n",
        "    plot_occurence(c)"
      ],
      "execution_count": 0,
      "outputs": [
        {
          "output_type": "display_data",
          "data": {
            "image/png": "[encoded data removed]",
            "text/plain": [
              "<Figure size 1440x360 with 1 Axes>"
            ]
          },
          "metadata": {
            "tags": [],
            "needs_background": "light"
          }
        },
        {
          "output_type": "display_data",
          "data": {
            "image/png": "[encoded data removed]",
            "text/plain": [
              "<Figure size 1440x360 with 1 Axes>"
            ]
          },
          "metadata": {
            "tags": [],
            "needs_background": "light"
          }
        },
        {
          "output_type": "display_data",
          "data": {
            "image/png": "[encoded data removed]",
            "text/plain": [
              "<Figure size 1440x360 with 1 Axes>"
            ]
          },
          "metadata": {
            "tags": [],
            "needs_background": "light"
          }
        },
        {
          "output_type": "display_data",
          "data": {
            "image/png": "[encoded data removed]",
            "text/plain": [
              "<Figure size 1440x360 with 1 Axes>"
            ]
          },
          "metadata": {
            "tags": [],
            "needs_background": "light"
          }
        },
        {
          "output_type": "display_data",
          "data": {
            "image/png": "[encoded data removed]",
            "text/plain": [
              "<Figure size 1440x360 with 1 Axes>"
            ]
          },
          "metadata": {
            "tags": [],
            "needs_background": "light"
          }
        },
        {
          "output_type": "display_data",
          "data": {
            "image/png": "[encoded data removed]",
            "text/plain": [
              "<Figure size 1440x360 with 1 Axes>"
            ]
          },
          "metadata": {
            "tags": [],
            "needs_background": "light"
          }
        },
        {
          "output_type": "display_data",
          "data": {
            "image/png": "[encoded data removed]",
            "text/plain": [
              "<Figure size 1440x360 with 1 Axes>"
            ]
          },
          "metadata": {
            "tags": [],
            "needs_background": "light"
          }
        },
        {
          "output_type": "display_data",
          "data": {
            "image/png": "[encoded data removed]",
            "text/plain": [
              "<Figure size 1440x360 with 1 Axes>"
            ]
          },
          "metadata": {
            "tags": [],
            "needs_background": "light"
          }
        },
        {
          "output_type": "display_data",
          "data": {
            "image/png": "[encoded data removed]",
            "text/plain": [
              "<Figure size 1440x360 with 1 Axes>"
            ]
          },
          "metadata": {
            "tags": [],
            "needs_background": "light"
          }
        },
        {
          "output_type": "display_data",
          "data": {
            "image/png": "[encoded data removed]",
            "text/plain": [
              "<Figure size 1440x360 with 1 Axes>"
            ]
          },
          "metadata": {
            "tags": [],
            "needs_background": "light"
          }
        },
        {
          "output_type": "display_data",
          "data": {
            "image/png": "[encoded data removed]",
            "text/plain": [
              "<Figure size 1440x360 with 1 Axes>"
            ]
          },
          "metadata": {
            "tags": [],
            "needs_background": "light"
          }
        },
        {
          "output_type": "display_data",
          "data": {
            "image/png": "[encoded data removed]",
            "text/plain": [
              "<Figure size 1440x360 with 1 Axes>"
            ]
          },
          "metadata": {
            "tags": [],
            "needs_background": "light"
          }
        },
        {
          "output_type": "display_data",
          "data": {
            "image/png": "[encoded data removed]",
            "text/plain": [
              "<Figure size 1440x360 with 1 Axes>"
            ]
          },
          "metadata": {
            "tags": [],
            "needs_background": "light"
          }
        },
        {
          "output_type": "display_data",
          "data": {
            "image/png": "[encoded data removed]",
            "text/plain": [
              "<Figure size 1440x360 with 1 Axes>"
            ]
          },
          "metadata": {
            "tags": [],
            "needs_background": "light"
          }
        },
        {
          "output_type": "display_data",
          "data": {
            "image/png": "[encoded data removed]",
            "text/plain": [
              "<Figure size 1440x360 with 1 Axes>"
            ]
          },
          "metadata": {
            "tags": [],
            "needs_background": "light"
          }
        },
        {
          "output_type": "display_data",
          "data": {
            "image/png": "[encoded data removed]",
            "text/plain": [
              "<Figure size 1440x360 with 1 Axes>"
            ]
          },
          "metadata": {
            "tags": [],
            "needs_background": "light"
          }
        }
      ]
    },
    {
      "cell_type": "markdown",
      "metadata": {
        "id": "SUqJ_GPNL4zR",
        "colab_type": "text"
      },
      "source": [
        "### Empty & NaN values"
      ]
    },
    {
      "cell_type": "markdown",
      "metadata": {
        "id": "YbP1QzqyL4zS",
        "colab_type": "text"
      },
      "source": [
        "Is there any column with empty (`NaN`/`None`) values?"
      ]
    },
    {
      "cell_type": "code",
      "metadata": {
        "id": "H3RjawfrL4zS",
        "colab_type": "code",
        "colab": {}
      },
      "source": [
        "table.isnull().sum()"
      ],
      "execution_count": 0,
      "outputs": []
    },
    {
      "cell_type": "markdown",
      "metadata": {
        "id": "H3HS1jfpL4zV",
        "colab_type": "text"
      },
      "source": [
        "### Define your variables/features"
      ]
    },
    {
      "cell_type": "code",
      "metadata": {
        "id": "hzxtIfztL4zW",
        "colab_type": "code",
        "colab": {}
      },
      "source": [
        "table=table.apply(pd.to_numeric, errors='ignore')"
      ],
      "execution_count": 0,
      "outputs": []
    },
    {
      "cell_type": "code",
      "metadata": {
        "id": "C_vExgSaL4zZ",
        "colab_type": "code",
        "colab": {}
      },
      "source": [
        "numerics = ['int16', 'int32', 'int64', 'float16', 'float32', 'float64']\n",
        "cols_num = table.select_dtypes(include=numerics).drop('Converted',axis=1)"
      ],
      "execution_count": 0,
      "outputs": []
    },
    {
      "cell_type": "code",
      "metadata": {
        "id": "MCdz9WsnL4zc",
        "colab_type": "code",
        "colab": {}
      },
      "source": [
        "# Columns definition\n",
        "COLUMNS=table.columns\n",
        "TARGET=['Converted']\n",
        "NUMERICAL=[*cols_num]\n",
        "# Catégorical : everything that is not in numerical and in target\n",
        "cat_cols =[*COLUMNS[~COLUMNS.isin([*NUMERICAL,*TARGET,*TO_DROP])]]"
      ],
      "execution_count": 0,
      "outputs": []
    },
    {
      "cell_type": "code",
      "metadata": {
        "id": "oq-Jw4iHL4ze",
        "colab_type": "code",
        "outputId": "84faea60-4b41-44b1-eaf1-1bd5a8be2538",
        "colab": {}
      },
      "source": [
        "table[[*TARGET,*NUMERICAL,*CATEGORICAL]]"
      ],
      "execution_count": 0,
      "outputs": [
        {
          "output_type": "execute_result",
          "data": {
            "text/html": [
              "<div>\n",
              "<style scoped>\n",
              "    .dataframe tbody tr th:only-of-type {\n",
              "        vertical-align: middle;\n",
              "    }\n",
              "\n",
              "    .dataframe tbody tr th {\n",
              "        vertical-align: top;\n",
              "    }\n",
              "\n",
              "    .dataframe thead th {\n",
              "        text-align: right;\n",
              "    }\n",
              "</style>\n",
              "<table border=\"1\" class=\"dataframe\">\n",
              "  <thead>\n",
              "    <tr style=\"text-align: right;\">\n",
              "      <th></th>\n",
              "      <th>Converted</th>\n",
              "      <th>TotalVisits</th>\n",
              "      <th>Total Time Spent on Website</th>\n",
              "      <th>Page Views Per Visit</th>\n",
              "      <th>Lead Origin</th>\n",
              "      <th>Lead Source</th>\n",
              "      <th>Do Not Email</th>\n",
              "      <th>Last Activity</th>\n",
              "      <th>How did you hear about NewKarak</th>\n",
              "      <th>What is your current occupation</th>\n",
              "      <th>Receive More Updates About Our Courses</th>\n",
              "      <th>Last Notable Activity</th>\n",
              "    </tr>\n",
              "  </thead>\n",
              "  <tbody>\n",
              "    <tr>\n",
              "      <td>0</td>\n",
              "      <td>0</td>\n",
              "      <td>2.0</td>\n",
              "      <td>365.0</td>\n",
              "      <td>2.00</td>\n",
              "      <td>Landing Page Submission</td>\n",
              "      <td>Direct Traffic</td>\n",
              "      <td>Yes</td>\n",
              "      <td>Came to Noche and sung Maitre Gims</td>\n",
              "      <td>Heard at the Bowler</td>\n",
              "      <td>Reg</td>\n",
              "      <td>No</td>\n",
              "      <td>Came to Noche and sung Maitre Gims</td>\n",
              "    </tr>\n",
              "    <tr>\n",
              "      <td>1</td>\n",
              "      <td>0</td>\n",
              "      <td>0.0</td>\n",
              "      <td>0.0</td>\n",
              "      <td>0.00</td>\n",
              "      <td>Nothing</td>\n",
              "      <td>Olark Chat</td>\n",
              "      <td>No</td>\n",
              "      <td>Chat Conversation</td>\n",
              "      <td>Heard at the Bowler</td>\n",
              "      <td>Reg</td>\n",
              "      <td>No</td>\n",
              "      <td>Other</td>\n",
              "    </tr>\n",
              "    <tr>\n",
              "      <td>2</td>\n",
              "      <td>0</td>\n",
              "      <td>4.0</td>\n",
              "      <td>176.0</td>\n",
              "      <td>2.00</td>\n",
              "      <td>Landing Page Submission</td>\n",
              "      <td>Google</td>\n",
              "      <td>No</td>\n",
              "      <td>Email Opened</td>\n",
              "      <td>Online Search</td>\n",
              "      <td>Reg</td>\n",
              "      <td>No</td>\n",
              "      <td>Other</td>\n",
              "    </tr>\n",
              "    <tr>\n",
              "      <td>3</td>\n",
              "      <td>0</td>\n",
              "      <td>2.0</td>\n",
              "      <td>387.0</td>\n",
              "      <td>2.00</td>\n",
              "      <td>Landing Page Submission</td>\n",
              "      <td>Organic Search</td>\n",
              "      <td>Yes</td>\n",
              "      <td>Came to Noche and sung Maitre Gims</td>\n",
              "      <td>Heard at the Bowler</td>\n",
              "      <td>Reg</td>\n",
              "      <td>No</td>\n",
              "      <td>Other</td>\n",
              "    </tr>\n",
              "    <tr>\n",
              "      <td>4</td>\n",
              "      <td>0</td>\n",
              "      <td>1.0</td>\n",
              "      <td>143.0</td>\n",
              "      <td>1.00</td>\n",
              "      <td>Nothing</td>\n",
              "      <td>Organic Search</td>\n",
              "      <td>No</td>\n",
              "      <td>Came to Noche and sung \"Country Home\"</td>\n",
              "      <td>Heard at the Bowler</td>\n",
              "      <td>Reg</td>\n",
              "      <td>No</td>\n",
              "      <td>Other</td>\n",
              "    </tr>\n",
              "    <tr>\n",
              "      <td>...</td>\n",
              "      <td>...</td>\n",
              "      <td>...</td>\n",
              "      <td>...</td>\n",
              "      <td>...</td>\n",
              "      <td>...</td>\n",
              "      <td>...</td>\n",
              "      <td>...</td>\n",
              "      <td>...</td>\n",
              "      <td>...</td>\n",
              "      <td>...</td>\n",
              "      <td>...</td>\n",
              "      <td>...</td>\n",
              "    </tr>\n",
              "    <tr>\n",
              "      <td>6851</td>\n",
              "      <td>1</td>\n",
              "      <td>13.0</td>\n",
              "      <td>1409.0</td>\n",
              "      <td>2.60</td>\n",
              "      <td>Nothing</td>\n",
              "      <td>Direct Traffic</td>\n",
              "      <td>No</td>\n",
              "      <td>SMS Sent</td>\n",
              "      <td>Heard at the Bowler</td>\n",
              "      <td>Reg</td>\n",
              "      <td>No</td>\n",
              "      <td>SMS Sent</td>\n",
              "    </tr>\n",
              "    <tr>\n",
              "      <td>6852</td>\n",
              "      <td>1</td>\n",
              "      <td>5.0</td>\n",
              "      <td>210.0</td>\n",
              "      <td>2.50</td>\n",
              "      <td>Landing Page Submission</td>\n",
              "      <td>Direct Traffic</td>\n",
              "      <td>No</td>\n",
              "      <td>SMS Sent</td>\n",
              "      <td>Heard at the Bowler</td>\n",
              "      <td>Reg</td>\n",
              "      <td>No</td>\n",
              "      <td>Other</td>\n",
              "    </tr>\n",
              "    <tr>\n",
              "      <td>6853</td>\n",
              "      <td>1</td>\n",
              "      <td>8.0</td>\n",
              "      <td>1845.0</td>\n",
              "      <td>2.67</td>\n",
              "      <td>Landing Page Submission</td>\n",
              "      <td>Direct Traffic</td>\n",
              "      <td>Yes</td>\n",
              "      <td>Came to Noche and sung Maitre Gims</td>\n",
              "      <td>Heard at the Bowler</td>\n",
              "      <td>Reg</td>\n",
              "      <td>No</td>\n",
              "      <td>Came to Noche and sung Maitre Gims</td>\n",
              "    </tr>\n",
              "    <tr>\n",
              "      <td>6854</td>\n",
              "      <td>1</td>\n",
              "      <td>3.0</td>\n",
              "      <td>499.0</td>\n",
              "      <td>3.00</td>\n",
              "      <td>Landing Page Submission</td>\n",
              "      <td>Google</td>\n",
              "      <td>No</td>\n",
              "      <td>SMS Sent</td>\n",
              "      <td>Online Search</td>\n",
              "      <td>NaN</td>\n",
              "      <td>No</td>\n",
              "      <td>SMS Sent</td>\n",
              "    </tr>\n",
              "    <tr>\n",
              "      <td>6855</td>\n",
              "      <td>1</td>\n",
              "      <td>6.0</td>\n",
              "      <td>1279.0</td>\n",
              "      <td>3.00</td>\n",
              "      <td>Landing Page Submission</td>\n",
              "      <td>Direct Traffic</td>\n",
              "      <td>No</td>\n",
              "      <td>SMS Sent</td>\n",
              "      <td>Heard at the Bowler</td>\n",
              "      <td>Reg</td>\n",
              "      <td>No</td>\n",
              "      <td>Other</td>\n",
              "    </tr>\n",
              "  </tbody>\n",
              "</table>\n",
              "<p>6856 rows × 12 columns</p>\n",
              "</div>"
            ],
            "text/plain": [
              "      Converted  TotalVisits  Total Time Spent on Website  \\\n",
              "0             0          2.0                        365.0   \n",
              "1             0          0.0                          0.0   \n",
              "2             0          4.0                        176.0   \n",
              "3             0          2.0                        387.0   \n",
              "4             0          1.0                        143.0   \n",
              "...         ...          ...                          ...   \n",
              "6851          1         13.0                       1409.0   \n",
              "6852          1          5.0                        210.0   \n",
              "6853          1          8.0                       1845.0   \n",
              "6854          1          3.0                        499.0   \n",
              "6855          1          6.0                       1279.0   \n",
              "\n",
              "      Page Views Per Visit              Lead Origin     Lead Source  \\\n",
              "0                     2.00  Landing Page Submission  Direct Traffic   \n",
              "1                     0.00                  Nothing      Olark Chat   \n",
              "2                     2.00  Landing Page Submission          Google   \n",
              "3                     2.00  Landing Page Submission  Organic Search   \n",
              "4                     1.00                  Nothing  Organic Search   \n",
              "...                    ...                      ...             ...   \n",
              "6851                  2.60                  Nothing  Direct Traffic   \n",
              "6852                  2.50  Landing Page Submission  Direct Traffic   \n",
              "6853                  2.67  Landing Page Submission  Direct Traffic   \n",
              "6854                  3.00  Landing Page Submission          Google   \n",
              "6855                  3.00  Landing Page Submission  Direct Traffic   \n",
              "\n",
              "     Do Not Email                          Last Activity  \\\n",
              "0             Yes     Came to Noche and sung Maitre Gims   \n",
              "1              No                      Chat Conversation   \n",
              "2              No                           Email Opened   \n",
              "3             Yes     Came to Noche and sung Maitre Gims   \n",
              "4              No  Came to Noche and sung \"Country Home\"   \n",
              "...           ...                                    ...   \n",
              "6851           No                               SMS Sent   \n",
              "6852           No                               SMS Sent   \n",
              "6853          Yes     Came to Noche and sung Maitre Gims   \n",
              "6854           No                               SMS Sent   \n",
              "6855           No                               SMS Sent   \n",
              "\n",
              "     How did you hear about NewKarak What is your current occupation  \\\n",
              "0                Heard at the Bowler                             Reg   \n",
              "1                Heard at the Bowler                             Reg   \n",
              "2                      Online Search                             Reg   \n",
              "3                Heard at the Bowler                             Reg   \n",
              "4                Heard at the Bowler                             Reg   \n",
              "...                              ...                             ...   \n",
              "6851             Heard at the Bowler                             Reg   \n",
              "6852             Heard at the Bowler                             Reg   \n",
              "6853             Heard at the Bowler                             Reg   \n",
              "6854                   Online Search                             NaN   \n",
              "6855             Heard at the Bowler                             Reg   \n",
              "\n",
              "     Receive More Updates About Our Courses  \\\n",
              "0                                        No   \n",
              "1                                        No   \n",
              "2                                        No   \n",
              "3                                        No   \n",
              "4                                        No   \n",
              "...                                     ...   \n",
              "6851                                     No   \n",
              "6852                                     No   \n",
              "6853                                     No   \n",
              "6854                                     No   \n",
              "6855                                     No   \n",
              "\n",
              "                   Last Notable Activity  \n",
              "0     Came to Noche and sung Maitre Gims  \n",
              "1                                  Other  \n",
              "2                                  Other  \n",
              "3                                  Other  \n",
              "4                                  Other  \n",
              "...                                  ...  \n",
              "6851                            SMS Sent  \n",
              "6852                               Other  \n",
              "6853  Came to Noche and sung Maitre Gims  \n",
              "6854                            SMS Sent  \n",
              "6855                               Other  \n",
              "\n",
              "[6856 rows x 12 columns]"
            ]
          },
          "metadata": {
            "tags": []
          },
          "execution_count": 41
        }
      ]
    },
    {
      "cell_type": "code",
      "metadata": {
        "id": "ds_6uM1bL4zh",
        "colab_type": "code",
        "outputId": "9b7161b9-187e-4a28-b632-5d402a77d79a",
        "colab": {}
      },
      "source": [
        "pd.Categorical(table['Lead Origin'])"
      ],
      "execution_count": 0,
      "outputs": [
        {
          "output_type": "execute_result",
          "data": {
            "text/plain": [
              "[Landing Page Submission, Nothing, Landing Page Submission, Landing Page Submission, Nothing, ..., Nothing, Landing Page Submission, Landing Page Submission, Landing Page Submission, Landing Page Submission]\n",
              "Length: 6856\n",
              "Categories (5, object): [Landing Page Submission, Lead Add Form, Lead Import, Nothing, Quick Add Form]"
            ]
          },
          "metadata": {
            "tags": []
          },
          "execution_count": 42
        }
      ]
    },
    {
      "cell_type": "code",
      "metadata": {
        "id": "Gr9WYBozL4zj",
        "colab_type": "code",
        "colab": {}
      },
      "source": [
        "#cette fonction permet de couper les variables a plus de 5 catégories et mettre toutes les autres dans other\n",
        "# regarder combien tombent dans \"other\" et positionner le curseur selon sens métier\n",
        "def transform_cat_variable(series,max_cats):\n",
        "    \n",
        "    # Compute the count of the occurences in the categories\n",
        "    count = series.value_counts().index.tolist()\n",
        "    if len(count) > max_cats:\n",
        "        count = count[:max_cats] + [\"Other\"]\n",
        "        # Create the categories\n",
        "        return pd.Categorical(series,categories = count).fillna(\"Other\")\n",
        "#         print(series+' has been transformed')\n",
        "    else:\n",
        "        return pd.Categorical(series,categories = count)"
      ],
      "execution_count": 0,
      "outputs": []
    },
    {
      "cell_type": "code",
      "metadata": {
        "id": "kk855fpyL4zl",
        "colab_type": "code",
        "colab": {}
      },
      "source": [
        "table_2=table.copy()\n",
        "# Prepare categorical variables\n",
        "for var in CATEGORICAL:\n",
        "    table_2[var] = transform_cat_variable(table[var],max_cats = 5)"
      ],
      "execution_count": 0,
      "outputs": []
    },
    {
      "cell_type": "code",
      "metadata": {
        "id": "tP57xz66L4zp",
        "colab_type": "code",
        "colab": {}
      },
      "source": [
        "dummies=pd.get_dummies(table[CATEGORICAL])\n",
        "table_dum=pd.concat([table[[*TARGET,*NUMERICAL,*CATEGORICAL]].drop(columns=CATEGORICAL),dummies],axis=1)\n",
        "COLUMN_DUM=table_dum.columns\n",
        "CATEGORICAL_DUM=COLUMN_DUM[~COLUMN_DUM.isin([*TARGET,*NUMERICAL])]"
      ],
      "execution_count": 0,
      "outputs": []
    },
    {
      "cell_type": "code",
      "metadata": {
        "id": "8ie0V1-zL4zs",
        "colab_type": "code",
        "colab": {}
      },
      "source": [
        "table_dum=table_dum.dropna(axis='index')"
      ],
      "execution_count": 0,
      "outputs": []
    },
    {
      "cell_type": "code",
      "metadata": {
        "id": "Ptcl6UnuL4zu",
        "colab_type": "code",
        "colab": {}
      },
      "source": [
        "cat_cols = [\n",
        "    'workclass',\n",
        "    'education',\n",
        "    'sex',\n",
        "]\n",
        "\n",
        "num_cols = [\n",
        "    'age',\n",
        "    'capital-gain',\n",
        "    'hours-per-week'\n",
        "]\n",
        "\n",
        "target_col = 'revenue'"
      ],
      "execution_count": 0,
      "outputs": []
    },
    {
      "cell_type": "markdown",
      "metadata": {
        "id": "etZ3bwXwL4zy",
        "colab_type": "text"
      },
      "source": [
        "### Preparing and preprocessing data"
      ]
    },
    {
      "cell_type": "markdown",
      "metadata": {
        "id": "rnf5_GW9L4zz",
        "colab_type": "text"
      },
      "source": [
        "Based on the type you gave to each column, we are going to preprocess each of them to clean the data.\n",
        "\n",
        "Here we will :\n",
        "\n",
        "- Convert to dummies categorical variables\n",
        "- Do nothing to numerical variables (could be interesting to normalize them)\n",
        "- Create a simple function to do all those steps automatically"
      ]
    },
    {
      "cell_type": "code",
      "metadata": {
        "id": "hHn2CMc4L4z0",
        "colab_type": "code",
        "colab": {}
      },
      "source": [
        "from sklearn.model_selection import train_test_split\n",
        "\n",
        "def preproc(data,cat_cols,num_cols,target_col,test_size = 0.2):\n",
        "    \n",
        "    # Convert categorical variables to dummies (1 and 0)\n",
        "    data_cat = pd.get_dummies(data[cat_cols])\n",
        "    \n",
        "    # Keep the numerical columns\n",
        "    data_num = data[num_cols]\n",
        "    \n",
        "    # Concat the num and cat data\n",
        "    X = pd.concat([data_num, data_cat], axis=1)\n",
        "    \n",
        "    # Prepare target variable\n",
        "    mapping_target = {' >50K':1,' <=50K':0}\n",
        "    y = data[target_col].map(mapping_target).values\n",
        "    \n",
        "    # Split the dataset in train and test set\n",
        "    X_train, X_test, y_train, y_test = train_test_split(X, y, test_size=0.2)\n",
        "    \n",
        "    return X_train, X_test, y_train, y_test    "
      ],
      "execution_count": 0,
      "outputs": []
    },
    {
      "cell_type": "code",
      "metadata": {
        "id": "508k_rywL4z6",
        "colab_type": "code",
        "outputId": "e7795152-0623-45d6-db32-b59a28e04cf8",
        "colab": {}
      },
      "source": [
        "X_train, X_test, y_train, y_test = preproc(train,cat_cols,num_cols,target_col,test_size = 0.2)"
      ],
      "execution_count": 0,
      "outputs": [
        {
          "output_type": "error",
          "ename": "NameError",
          "evalue": "name 'train' is not defined",
          "traceback": [
            "\u001b[1;31m---------------------------------------------------------------------------\u001b[0m",
            "\u001b[1;31mNameError\u001b[0m                                 Traceback (most recent call last)",
            "\u001b[1;32m<ipython-input-35-2d795eaba29a>\u001b[0m in \u001b[0;36m<module>\u001b[1;34m()\u001b[0m\n\u001b[1;32m----> 1\u001b[1;33m \u001b[0mX_train\u001b[0m\u001b[1;33m,\u001b[0m \u001b[0mX_test\u001b[0m\u001b[1;33m,\u001b[0m \u001b[0my_train\u001b[0m\u001b[1;33m,\u001b[0m \u001b[0my_test\u001b[0m \u001b[1;33m=\u001b[0m \u001b[0mpreproc\u001b[0m\u001b[1;33m(\u001b[0m\u001b[0mtrain\u001b[0m\u001b[1;33m,\u001b[0m\u001b[0mcat_cols\u001b[0m\u001b[1;33m,\u001b[0m\u001b[0mnum_cols\u001b[0m\u001b[1;33m,\u001b[0m\u001b[0mtarget_col\u001b[0m\u001b[1;33m,\u001b[0m\u001b[0mtest_size\u001b[0m \u001b[1;33m=\u001b[0m \u001b[1;36m0.2\u001b[0m\u001b[1;33m)\u001b[0m\u001b[1;33m\u001b[0m\u001b[0m\n\u001b[0m",
            "\u001b[1;31mNameError\u001b[0m: name 'train' is not defined"
          ]
        }
      ]
    },
    {
      "cell_type": "code",
      "metadata": {
        "id": "f5qJwy54L40A",
        "colab_type": "code",
        "outputId": "08ba0394-5895-4597-97c2-ef8c5822ae80",
        "colab": {}
      },
      "source": [
        "print(X_train.shape)\n",
        "X_train.head()"
      ],
      "execution_count": 0,
      "outputs": [
        {
          "output_type": "error",
          "ename": "NameError",
          "evalue": "name 'X_train' is not defined",
          "traceback": [
            "\u001b[1;31m---------------------------------------------------------------------------\u001b[0m",
            "\u001b[1;31mNameError\u001b[0m                                 Traceback (most recent call last)",
            "\u001b[1;32m<ipython-input-36-db907bb723aa>\u001b[0m in \u001b[0;36m<module>\u001b[1;34m()\u001b[0m\n\u001b[1;32m----> 1\u001b[1;33m \u001b[0mprint\u001b[0m\u001b[1;33m(\u001b[0m\u001b[0mX_train\u001b[0m\u001b[1;33m.\u001b[0m\u001b[0mshape\u001b[0m\u001b[1;33m)\u001b[0m\u001b[1;33m\u001b[0m\u001b[0m\n\u001b[0m\u001b[0;32m      2\u001b[0m \u001b[0mX_train\u001b[0m\u001b[1;33m.\u001b[0m\u001b[0mhead\u001b[0m\u001b[1;33m(\u001b[0m\u001b[1;33m)\u001b[0m\u001b[1;33m\u001b[0m\u001b[0m\n",
            "\u001b[1;31mNameError\u001b[0m: name 'X_train' is not defined"
          ]
        }
      ]
    },
    {
      "cell_type": "markdown",
      "metadata": {
        "id": "R4BPQ39SL40C",
        "colab_type": "text"
      },
      "source": [
        "## 3. Machine Learning\n"
      ]
    },
    {
      "cell_type": "code",
      "metadata": {
        "id": "pTgUL1JyL40D",
        "colab_type": "code",
        "colab": {}
      },
      "source": [
        "from sklearn.metrics import confusion_matrix\n",
        "from sklearn.metrics import accuracy_score\n",
        "from sklearn.linear_model import LogisticRegression\n",
        "from sklearn.ensemble import RandomForestClassifier"
      ],
      "execution_count": 0,
      "outputs": []
    },
    {
      "cell_type": "code",
      "metadata": {
        "id": "0OawaCX3L40F",
        "colab_type": "code",
        "colab": {}
      },
      "source": [
        ""
      ],
      "execution_count": 0,
      "outputs": []
    },
    {
      "cell_type": "code",
      "metadata": {
        "id": "CxYaRB_GL40I",
        "colab_type": "code",
        "colab": {}
      },
      "source": [
        ""
      ],
      "execution_count": 0,
      "outputs": []
    },
    {
      "cell_type": "markdown",
      "metadata": {
        "id": "5cvpXSRmL40N",
        "colab_type": "text"
      },
      "source": [
        "## 4. Performance measurement\n"
      ]
    },
    {
      "cell_type": "code",
      "metadata": {
        "id": "jJyWa83qL40O",
        "colab_type": "code",
        "colab": {}
      },
      "source": [
        ""
      ],
      "execution_count": 0,
      "outputs": []
    },
    {
      "cell_type": "code",
      "metadata": {
        "id": "qJ8uZZtPL40R",
        "colab_type": "code",
        "colab": {}
      },
      "source": [
        ""
      ],
      "execution_count": 0,
      "outputs": []
    },
    {
      "cell_type": "code",
      "metadata": {
        "id": "Qc21juF_L40T",
        "colab_type": "code",
        "colab": {}
      },
      "source": [
        ""
      ],
      "execution_count": 0,
      "outputs": []
    }
  ]
}